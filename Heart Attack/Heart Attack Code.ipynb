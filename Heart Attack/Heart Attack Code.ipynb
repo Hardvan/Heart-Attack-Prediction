{
 "cells": [
  {
   "cell_type": "code",
   "execution_count": 171,
   "id": "5a6c9dfd",
   "metadata": {},
   "outputs": [],
   "source": [
    "import pandas as pd\n",
    "import numpy as np\n",
    "import matplotlib.pyplot as plt\n",
    "import seaborn as sns"
   ]
  },
  {
   "cell_type": "code",
   "execution_count": 172,
   "id": "f7d40e51",
   "metadata": {},
   "outputs": [],
   "source": [
    "data = pd.read_csv(\"heart.csv\")"
   ]
  },
  {
   "cell_type": "code",
   "execution_count": 173,
   "id": "51bd6c88",
   "metadata": {},
   "outputs": [
    {
     "data": {
      "text/html": [
       "<div>\n",
       "<style scoped>\n",
       "    .dataframe tbody tr th:only-of-type {\n",
       "        vertical-align: middle;\n",
       "    }\n",
       "\n",
       "    .dataframe tbody tr th {\n",
       "        vertical-align: top;\n",
       "    }\n",
       "\n",
       "    .dataframe thead th {\n",
       "        text-align: right;\n",
       "    }\n",
       "</style>\n",
       "<table border=\"1\" class=\"dataframe\">\n",
       "  <thead>\n",
       "    <tr style=\"text-align: right;\">\n",
       "      <th></th>\n",
       "      <th>age</th>\n",
       "      <th>sex</th>\n",
       "      <th>cp</th>\n",
       "      <th>trtbps</th>\n",
       "      <th>chol</th>\n",
       "      <th>fbs</th>\n",
       "      <th>restecg</th>\n",
       "      <th>thalachh</th>\n",
       "      <th>exng</th>\n",
       "      <th>oldpeak</th>\n",
       "      <th>slp</th>\n",
       "      <th>caa</th>\n",
       "      <th>thall</th>\n",
       "      <th>output</th>\n",
       "    </tr>\n",
       "  </thead>\n",
       "  <tbody>\n",
       "    <tr>\n",
       "      <th>0</th>\n",
       "      <td>63</td>\n",
       "      <td>1</td>\n",
       "      <td>3</td>\n",
       "      <td>145</td>\n",
       "      <td>233</td>\n",
       "      <td>1</td>\n",
       "      <td>0</td>\n",
       "      <td>150</td>\n",
       "      <td>0</td>\n",
       "      <td>2.3</td>\n",
       "      <td>0</td>\n",
       "      <td>0</td>\n",
       "      <td>1</td>\n",
       "      <td>1</td>\n",
       "    </tr>\n",
       "    <tr>\n",
       "      <th>1</th>\n",
       "      <td>37</td>\n",
       "      <td>1</td>\n",
       "      <td>2</td>\n",
       "      <td>130</td>\n",
       "      <td>250</td>\n",
       "      <td>0</td>\n",
       "      <td>1</td>\n",
       "      <td>187</td>\n",
       "      <td>0</td>\n",
       "      <td>3.5</td>\n",
       "      <td>0</td>\n",
       "      <td>0</td>\n",
       "      <td>2</td>\n",
       "      <td>1</td>\n",
       "    </tr>\n",
       "    <tr>\n",
       "      <th>2</th>\n",
       "      <td>41</td>\n",
       "      <td>0</td>\n",
       "      <td>1</td>\n",
       "      <td>130</td>\n",
       "      <td>204</td>\n",
       "      <td>0</td>\n",
       "      <td>0</td>\n",
       "      <td>172</td>\n",
       "      <td>0</td>\n",
       "      <td>1.4</td>\n",
       "      <td>2</td>\n",
       "      <td>0</td>\n",
       "      <td>2</td>\n",
       "      <td>1</td>\n",
       "    </tr>\n",
       "    <tr>\n",
       "      <th>3</th>\n",
       "      <td>56</td>\n",
       "      <td>1</td>\n",
       "      <td>1</td>\n",
       "      <td>120</td>\n",
       "      <td>236</td>\n",
       "      <td>0</td>\n",
       "      <td>1</td>\n",
       "      <td>178</td>\n",
       "      <td>0</td>\n",
       "      <td>0.8</td>\n",
       "      <td>2</td>\n",
       "      <td>0</td>\n",
       "      <td>2</td>\n",
       "      <td>1</td>\n",
       "    </tr>\n",
       "    <tr>\n",
       "      <th>4</th>\n",
       "      <td>57</td>\n",
       "      <td>0</td>\n",
       "      <td>0</td>\n",
       "      <td>120</td>\n",
       "      <td>354</td>\n",
       "      <td>0</td>\n",
       "      <td>1</td>\n",
       "      <td>163</td>\n",
       "      <td>1</td>\n",
       "      <td>0.6</td>\n",
       "      <td>2</td>\n",
       "      <td>0</td>\n",
       "      <td>2</td>\n",
       "      <td>1</td>\n",
       "    </tr>\n",
       "  </tbody>\n",
       "</table>\n",
       "</div>"
      ],
      "text/plain": [
       "   age  sex  cp  trtbps  chol  fbs  restecg  thalachh  exng  oldpeak  slp  \\\n",
       "0   63    1   3     145   233    1        0       150     0      2.3    0   \n",
       "1   37    1   2     130   250    0        1       187     0      3.5    0   \n",
       "2   41    0   1     130   204    0        0       172     0      1.4    2   \n",
       "3   56    1   1     120   236    0        1       178     0      0.8    2   \n",
       "4   57    0   0     120   354    0        1       163     1      0.6    2   \n",
       "\n",
       "   caa  thall  output  \n",
       "0    0      1       1  \n",
       "1    0      2       1  \n",
       "2    0      2       1  \n",
       "3    0      2       1  \n",
       "4    0      2       1  "
      ]
     },
     "execution_count": 173,
     "metadata": {},
     "output_type": "execute_result"
    }
   ],
   "source": [
    "data.head()"
   ]
  },
  {
   "cell_type": "code",
   "execution_count": 174,
   "id": "cea3f796",
   "metadata": {},
   "outputs": [
    {
     "data": {
      "text/plain": [
       "<AxesSubplot:>"
      ]
     },
     "execution_count": 174,
     "metadata": {},
     "output_type": "execute_result"
    },
    {
     "data": {
      "image/png": "[encoded data removed]",
      "text/plain": [
       "<Figure size 432x288 with 2 Axes>"
      ]
     },
     "metadata": {
      "needs_background": "light"
     },
     "output_type": "display_data"
    }
   ],
   "source": [
    "sns.heatmap(data.isnull(), cmap=\"viridis\")"
   ]
  },
  {
   "cell_type": "code",
   "execution_count": 175,
   "id": "2839a45f",
   "metadata": {},
   "outputs": [],
   "source": [
    "# Splitting Data\n",
    "from sklearn.model_selection import train_test_split\n",
    "X = data.drop(\"output\", axis=1)\n",
    "y = data[\"output\"]\n",
    "X_train, X_test, y_train, y_test = train_test_split(X, y, test_size=0.2, random_state=42)"
   ]
  },
  {
   "cell_type": "code",
   "execution_count": 176,
   "id": "7efa79cc",
   "metadata": {},
   "outputs": [],
   "source": [
    "# Scaling Data\n",
    "from sklearn.preprocessing import MinMaxScaler\n",
    "scaler = MinMaxScaler()\n",
    "X_train = scaler.fit_transform(X_train)\n",
    "X_test = scaler.transform(X_test)"
   ]
  },
  {
   "cell_type": "code",
   "execution_count": 177,
   "id": "82ec5a1f",
   "metadata": {},
   "outputs": [
    {
     "data": {
      "text/plain": [
       "(242, 13)"
      ]
     },
     "execution_count": 177,
     "metadata": {},
     "output_type": "execute_result"
    }
   ],
   "source": [
    "X_train.shape"
   ]
  },
  {
   "cell_type": "code",
   "execution_count": 178,
   "id": "11aa44d7",
   "metadata": {},
   "outputs": [],
   "source": [
    "from tensorflow.keras.callbacks import EarlyStopping\n",
    "early_stop = EarlyStopping(monitor=\"val_loss\", mode=\"min\", verbose=1, patience=25)\n",
    "from tensorflow.keras.layers import Dropout\n",
    "from tensorflow.keras.models import Sequential\n",
    "from tensorflow.keras.layers import Dense\n",
    "\n",
    "model = Sequential()\n",
    "\n",
    "model.add(Dense(100, activation=\"relu\"))\n",
    "model.add(Dropout(0.5))\n",
    "\n",
    "model.add(Dense(50, activation=\"relu\"))\n",
    "model.add(Dropout(0.5))\n",
    "\n",
    "# Binary Classification\n",
    "model.add(Dense(1, activation=\"sigmoid\"))\n",
    "\n",
    "model.compile(optimizer=\"adam\", loss=\"binary_crossentropy\")"
   ]
  },
  {
   "cell_type": "code",
   "execution_count": 179,
   "id": "9a125e8e",
   "metadata": {},
   "outputs": [
    {
     "name": "stdout",
     "output_type": "stream",
     "text": [
      "Epoch 1/600\n",
      "8/8 [==============================] - 1s 22ms/step - loss: 0.6825 - val_loss: 0.6566\n",
      "Epoch 2/600\n",
      "8/8 [==============================] - 0s 4ms/step - loss: 0.6679 - val_loss: 0.6319\n",
      "Epoch 3/600\n",
      "8/8 [==============================] - 0s 5ms/step - loss: 0.6450 - val_loss: 0.6082\n",
      "Epoch 4/600\n",
      "8/8 [==============================] - 0s 5ms/step - loss: 0.6402 - val_loss: 0.5858\n",
      "Epoch 5/600\n",
      "8/8 [==============================] - 0s 5ms/step - loss: 0.6222 - val_loss: 0.5613\n",
      "Epoch 6/600\n",
      "8/8 [==============================] - 0s 5ms/step - loss: 0.5806 - val_loss: 0.5345\n",
      "Epoch 7/600\n",
      "8/8 [==============================] - 0s 4ms/step - loss: 0.5671 - val_loss: 0.5070\n",
      "Epoch 8/600\n",
      "8/8 [==============================] - 0s 4ms/step - loss: 0.5383 - val_loss: 0.4838\n",
      "Epoch 9/600\n",
      "8/8 [==============================] - 0s 5ms/step - loss: 0.5391 - val_loss: 0.4593\n",
      "Epoch 10/600\n",
      "8/8 [==============================] - 0s 5ms/step - loss: 0.5034 - val_loss: 0.4405\n",
      "Epoch 11/600\n",
      "8/8 [==============================] - 0s 5ms/step - loss: 0.5027 - val_loss: 0.4280\n",
      "Epoch 12/600\n",
      "8/8 [==============================] - 0s 5ms/step - loss: 0.5115 - val_loss: 0.4170\n",
      "Epoch 13/600\n",
      "8/8 [==============================] - 0s 4ms/step - loss: 0.4576 - val_loss: 0.4219\n",
      "Epoch 14/600\n",
      "8/8 [==============================] - 0s 5ms/step - loss: 0.4627 - val_loss: 0.4084\n",
      "Epoch 15/600\n",
      "8/8 [==============================] - 0s 5ms/step - loss: 0.4556 - val_loss: 0.3909\n",
      "Epoch 16/600\n",
      "8/8 [==============================] - 0s 5ms/step - loss: 0.4160 - val_loss: 0.3850\n",
      "Epoch 17/600\n",
      "8/8 [==============================] - 0s 5ms/step - loss: 0.4287 - val_loss: 0.3830\n",
      "Epoch 18/600\n",
      "8/8 [==============================] - 0s 5ms/step - loss: 0.4242 - val_loss: 0.3810\n",
      "Epoch 19/600\n",
      "8/8 [==============================] - 0s 5ms/step - loss: 0.4050 - val_loss: 0.3891\n",
      "Epoch 20/600\n",
      "8/8 [==============================] - 0s 5ms/step - loss: 0.3976 - val_loss: 0.3818\n",
      "Epoch 21/600\n",
      "8/8 [==============================] - 0s 5ms/step - loss: 0.4148 - val_loss: 0.3777\n",
      "Epoch 22/600\n",
      "8/8 [==============================] - 0s 5ms/step - loss: 0.3798 - val_loss: 0.3763\n",
      "Epoch 23/600\n",
      "8/8 [==============================] - 0s 5ms/step - loss: 0.3748 - val_loss: 0.3741\n",
      "Epoch 24/600\n",
      "8/8 [==============================] - 0s 5ms/step - loss: 0.3632 - val_loss: 0.3757\n",
      "Epoch 25/600\n",
      "8/8 [==============================] - 0s 5ms/step - loss: 0.3963 - val_loss: 0.3835\n",
      "Epoch 26/600\n",
      "8/8 [==============================] - 0s 5ms/step - loss: 0.4164 - val_loss: 0.3756\n",
      "Epoch 27/600\n",
      "8/8 [==============================] - 0s 5ms/step - loss: 0.3989 - val_loss: 0.3763\n",
      "Epoch 28/600\n",
      "8/8 [==============================] - 0s 5ms/step - loss: 0.4022 - val_loss: 0.3778\n",
      "Epoch 29/600\n",
      "8/8 [==============================] - 0s 5ms/step - loss: 0.3992 - val_loss: 0.3810\n",
      "Epoch 30/600\n",
      "8/8 [==============================] - 0s 5ms/step - loss: 0.3758 - val_loss: 0.3764\n",
      "Epoch 31/600\n",
      "8/8 [==============================] - 0s 5ms/step - loss: 0.3807 - val_loss: 0.3659\n",
      "Epoch 32/600\n",
      "8/8 [==============================] - 0s 5ms/step - loss: 0.3985 - val_loss: 0.3697\n",
      "Epoch 33/600\n",
      "8/8 [==============================] - 0s 5ms/step - loss: 0.3657 - val_loss: 0.3710\n",
      "Epoch 34/600\n",
      "8/8 [==============================] - 0s 5ms/step - loss: 0.3428 - val_loss: 0.3603\n",
      "Epoch 35/600\n",
      "8/8 [==============================] - 0s 5ms/step - loss: 0.3533 - val_loss: 0.3675\n",
      "Epoch 36/600\n",
      "8/8 [==============================] - 0s 5ms/step - loss: 0.3730 - val_loss: 0.3695\n",
      "Epoch 37/600\n",
      "8/8 [==============================] - 0s 5ms/step - loss: 0.3872 - val_loss: 0.3657\n",
      "Epoch 38/600\n",
      "8/8 [==============================] - 0s 5ms/step - loss: 0.3785 - val_loss: 0.3679\n",
      "Epoch 39/600\n",
      "8/8 [==============================] - 0s 5ms/step - loss: 0.3656 - val_loss: 0.3761\n",
      "Epoch 40/600\n",
      "8/8 [==============================] - 0s 4ms/step - loss: 0.3773 - val_loss: 0.3640\n",
      "Epoch 41/600\n",
      "8/8 [==============================] - 0s 5ms/step - loss: 0.3556 - val_loss: 0.3666\n",
      "Epoch 42/600\n",
      "8/8 [==============================] - 0s 5ms/step - loss: 0.3690 - val_loss: 0.3649\n",
      "Epoch 43/600\n",
      "8/8 [==============================] - 0s 5ms/step - loss: 0.3494 - val_loss: 0.3704\n",
      "Epoch 44/600\n",
      "8/8 [==============================] - 0s 5ms/step - loss: 0.3640 - val_loss: 0.3764\n",
      "Epoch 45/600\n",
      "8/8 [==============================] - 0s 5ms/step - loss: 0.3712 - val_loss: 0.3675\n",
      "Epoch 46/600\n",
      "8/8 [==============================] - 0s 5ms/step - loss: 0.3848 - val_loss: 0.3602\n",
      "Epoch 47/600\n",
      "8/8 [==============================] - 0s 5ms/step - loss: 0.3428 - val_loss: 0.3616\n",
      "Epoch 48/600\n",
      "8/8 [==============================] - 0s 5ms/step - loss: 0.3334 - val_loss: 0.3704\n",
      "Epoch 49/600\n",
      "8/8 [==============================] - 0s 5ms/step - loss: 0.3601 - val_loss: 0.3706\n",
      "Epoch 50/600\n",
      "8/8 [==============================] - 0s 5ms/step - loss: 0.3948 - val_loss: 0.3642\n",
      "Epoch 51/600\n",
      "8/8 [==============================] - 0s 5ms/step - loss: 0.3336 - val_loss: 0.3699\n",
      "Epoch 52/600\n",
      "8/8 [==============================] - 0s 5ms/step - loss: 0.3719 - val_loss: 0.3679\n",
      "Epoch 53/600\n",
      "8/8 [==============================] - 0s 5ms/step - loss: 0.3504 - val_loss: 0.3643\n",
      "Epoch 54/600\n",
      "8/8 [==============================] - 0s 5ms/step - loss: 0.3371 - val_loss: 0.3655\n",
      "Epoch 55/600\n",
      "8/8 [==============================] - 0s 5ms/step - loss: 0.3350 - val_loss: 0.3712\n",
      "Epoch 56/600\n",
      "8/8 [==============================] - 0s 5ms/step - loss: 0.3501 - val_loss: 0.3683\n",
      "Epoch 57/600\n",
      "8/8 [==============================] - 0s 5ms/step - loss: 0.3503 - val_loss: 0.3709\n",
      "Epoch 58/600\n",
      "8/8 [==============================] - 0s 5ms/step - loss: 0.3275 - val_loss: 0.3731\n",
      "Epoch 59/600\n",
      "8/8 [==============================] - 0s 5ms/step - loss: 0.3562 - val_loss: 0.3700\n",
      "Epoch 60/600\n",
      "8/8 [==============================] - 0s 4ms/step - loss: 0.3392 - val_loss: 0.3735\n",
      "Epoch 61/600\n",
      "8/8 [==============================] - 0s 5ms/step - loss: 0.3147 - val_loss: 0.3762\n",
      "Epoch 62/600\n",
      "8/8 [==============================] - 0s 5ms/step - loss: 0.3160 - val_loss: 0.3694\n",
      "Epoch 63/600\n",
      "8/8 [==============================] - 0s 6ms/step - loss: 0.3290 - val_loss: 0.3755\n",
      "Epoch 64/600\n",
      "8/8 [==============================] - 0s 5ms/step - loss: 0.3321 - val_loss: 0.3727\n",
      "Epoch 65/600\n",
      "8/8 [==============================] - 0s 4ms/step - loss: 0.3446 - val_loss: 0.3763\n",
      "Epoch 66/600\n",
      "8/8 [==============================] - 0s 5ms/step - loss: 0.3322 - val_loss: 0.3674\n",
      "Epoch 67/600\n",
      "8/8 [==============================] - 0s 4ms/step - loss: 0.3239 - val_loss: 0.3663\n",
      "Epoch 68/600\n",
      "8/8 [==============================] - 0s 5ms/step - loss: 0.3309 - val_loss: 0.3650\n",
      "Epoch 69/600\n",
      "8/8 [==============================] - 0s 5ms/step - loss: 0.3380 - val_loss: 0.3674\n",
      "Epoch 70/600\n",
      "8/8 [==============================] - 0s 5ms/step - loss: 0.2982 - val_loss: 0.3759\n",
      "Epoch 71/600\n",
      "8/8 [==============================] - 0s 5ms/step - loss: 0.3360 - val_loss: 0.3733\n",
      "Epoch 71: early stopping\n"
     ]
    },
    {
     "data": {
      "text/plain": [
       "<keras.callbacks.History at 0x2abc40f0e20>"
      ]
     },
     "execution_count": 179,
     "metadata": {},
     "output_type": "execute_result"
    }
   ],
   "source": [
    "model.fit(x=X_train, y=y_train,\n",
    "          validation_data=(X_test, y_test),\n",
    "          epochs=600,\n",
    "          callbacks=[early_stop])"
   ]
  },
  {
   "cell_type": "code",
   "execution_count": 180,
   "id": "0fd787b8",
   "metadata": {},
   "outputs": [
    {
     "data": {
      "text/plain": [
       "<AxesSubplot:>"
      ]
     },
     "execution_count": 180,
     "metadata": {},
     "output_type": "execute_result"
    },
    {
     "data": {
      "image/png": "[encoded data removed]",
      "text/plain": [
       "<Figure size 432x288 with 1 Axes>"
      ]
     },
     "metadata": {
      "needs_background": "light"
     },
     "output_type": "display_data"
    }
   ],
   "source": [
    "losses = pd.DataFrame(model.history.history)\n",
    "losses.plot()"
   ]
  },
  {
   "cell_type": "code",
   "execution_count": 181,
   "id": "522c43bb",
   "metadata": {},
   "outputs": [
    {
     "name": "stdout",
     "output_type": "stream",
     "text": [
      "2/2 [==============================] - 0s 2ms/step\n"
     ]
    }
   ],
   "source": [
    "predictions = (model.predict(X_test) > 0.5)*1"
   ]
  },
  {
   "cell_type": "code",
   "execution_count": 182,
   "id": "e7dde302",
   "metadata": {},
   "outputs": [
    {
     "name": "stdout",
     "output_type": "stream",
     "text": [
      "[[25  4]\n",
      " [ 6 26]]\n",
      "\n",
      "              precision    recall  f1-score   support\n",
      "\n",
      "           0       0.81      0.86      0.83        29\n",
      "           1       0.87      0.81      0.84        32\n",
      "\n",
      "    accuracy                           0.84        61\n",
      "   macro avg       0.84      0.84      0.84        61\n",
      "weighted avg       0.84      0.84      0.84        61\n",
      "\n"
     ]
    }
   ],
   "source": [
    "from sklearn.metrics import classification_report, confusion_matrix\n",
    "print(confusion_matrix(y_test, predictions))\n",
    "print()\n",
    "print(classification_report(y_test, predictions))"
   ]
  }
 ],
 "metadata": {
  "kernelspec": {
   "display_name": "Python 3 (ipykernel)",
   "language": "python",
   "name": "python3"
  },
  "language_info": {
   "codemirror_mode": {
    "name": "ipython",
    "version": 3
   },
   "file_extension": ".py",
   "mimetype": "text/x-python",
   "name": "python",
   "nbconvert_exporter": "python",
   "pygments_lexer": "ipython3",
   "version": "3.9.12"
  }
 },
 "nbformat": 4,
 "nbformat_minor": 5
}
