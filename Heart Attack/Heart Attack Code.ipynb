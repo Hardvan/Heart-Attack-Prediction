{
 "cells": [
  {
   "cell_type": "code",
   "execution_count": 25,
   "id": "fb955842",
   "metadata": {},
   "outputs": [],
   "source": [
    "import pandas as pd\n",
    "import numpy as np\n",
    "import matplotlib.pyplot as plt\n",
    "import seaborn as sns"
   ]
  },
  {
   "cell_type": "code",
   "execution_count": 26,
   "id": "365fc6cf",
   "metadata": {},
   "outputs": [],
   "source": [
    "data = pd.read_csv(\"heart.csv\")"
   ]
  },
  {
   "cell_type": "code",
   "execution_count": 27,
   "id": "775dea88",
   "metadata": {},
   "outputs": [
    {
     "data": {
      "text/html": [
       "<div>\n",
       "<style scoped>\n",
       "    .dataframe tbody tr th:only-of-type {\n",
       "        vertical-align: middle;\n",
       "    }\n",
       "\n",
       "    .dataframe tbody tr th {\n",
       "        vertical-align: top;\n",
       "    }\n",
       "\n",
       "    .dataframe thead th {\n",
       "        text-align: right;\n",
       "    }\n",
       "</style>\n",
       "<table border=\"1\" class=\"dataframe\">\n",
       "  <thead>\n",
       "    <tr style=\"text-align: right;\">\n",
       "      <th></th>\n",
       "      <th>age</th>\n",
       "      <th>sex</th>\n",
       "      <th>cp</th>\n",
       "      <th>trtbps</th>\n",
       "      <th>chol</th>\n",
       "      <th>fbs</th>\n",
       "      <th>restecg</th>\n",
       "      <th>thalachh</th>\n",
       "      <th>exng</th>\n",
       "      <th>oldpeak</th>\n",
       "      <th>slp</th>\n",
       "      <th>caa</th>\n",
       "      <th>thall</th>\n",
       "      <th>output</th>\n",
       "    </tr>\n",
       "  </thead>\n",
       "  <tbody>\n",
       "    <tr>\n",
       "      <th>0</th>\n",
       "      <td>63</td>\n",
       "      <td>1</td>\n",
       "      <td>3</td>\n",
       "      <td>145</td>\n",
       "      <td>233</td>\n",
       "      <td>1</td>\n",
       "      <td>0</td>\n",
       "      <td>150</td>\n",
       "      <td>0</td>\n",
       "      <td>2.3</td>\n",
       "      <td>0</td>\n",
       "      <td>0</td>\n",
       "      <td>1</td>\n",
       "      <td>1</td>\n",
       "    </tr>\n",
       "    <tr>\n",
       "      <th>1</th>\n",
       "      <td>37</td>\n",
       "      <td>1</td>\n",
       "      <td>2</td>\n",
       "      <td>130</td>\n",
       "      <td>250</td>\n",
       "      <td>0</td>\n",
       "      <td>1</td>\n",
       "      <td>187</td>\n",
       "      <td>0</td>\n",
       "      <td>3.5</td>\n",
       "      <td>0</td>\n",
       "      <td>0</td>\n",
       "      <td>2</td>\n",
       "      <td>1</td>\n",
       "    </tr>\n",
       "    <tr>\n",
       "      <th>2</th>\n",
       "      <td>41</td>\n",
       "      <td>0</td>\n",
       "      <td>1</td>\n",
       "      <td>130</td>\n",
       "      <td>204</td>\n",
       "      <td>0</td>\n",
       "      <td>0</td>\n",
       "      <td>172</td>\n",
       "      <td>0</td>\n",
       "      <td>1.4</td>\n",
       "      <td>2</td>\n",
       "      <td>0</td>\n",
       "      <td>2</td>\n",
       "      <td>1</td>\n",
       "    </tr>\n",
       "    <tr>\n",
       "      <th>3</th>\n",
       "      <td>56</td>\n",
       "      <td>1</td>\n",
       "      <td>1</td>\n",
       "      <td>120</td>\n",
       "      <td>236</td>\n",
       "      <td>0</td>\n",
       "      <td>1</td>\n",
       "      <td>178</td>\n",
       "      <td>0</td>\n",
       "      <td>0.8</td>\n",
       "      <td>2</td>\n",
       "      <td>0</td>\n",
       "      <td>2</td>\n",
       "      <td>1</td>\n",
       "    </tr>\n",
       "    <tr>\n",
       "      <th>4</th>\n",
       "      <td>57</td>\n",
       "      <td>0</td>\n",
       "      <td>0</td>\n",
       "      <td>120</td>\n",
       "      <td>354</td>\n",
       "      <td>0</td>\n",
       "      <td>1</td>\n",
       "      <td>163</td>\n",
       "      <td>1</td>\n",
       "      <td>0.6</td>\n",
       "      <td>2</td>\n",
       "      <td>0</td>\n",
       "      <td>2</td>\n",
       "      <td>1</td>\n",
       "    </tr>\n",
       "  </tbody>\n",
       "</table>\n",
       "</div>"
      ],
      "text/plain": [
       "   age  sex  cp  trtbps  chol  fbs  restecg  thalachh  exng  oldpeak  slp  \\\n",
       "0   63    1   3     145   233    1        0       150     0      2.3    0   \n",
       "1   37    1   2     130   250    0        1       187     0      3.5    0   \n",
       "2   41    0   1     130   204    0        0       172     0      1.4    2   \n",
       "3   56    1   1     120   236    0        1       178     0      0.8    2   \n",
       "4   57    0   0     120   354    0        1       163     1      0.6    2   \n",
       "\n",
       "   caa  thall  output  \n",
       "0    0      1       1  \n",
       "1    0      2       1  \n",
       "2    0      2       1  \n",
       "3    0      2       1  \n",
       "4    0      2       1  "
      ]
     },
     "execution_count": 27,
     "metadata": {},
     "output_type": "execute_result"
    }
   ],
   "source": [
    "data.head()"
   ]
  },
  {
   "cell_type": "code",
   "execution_count": 28,
   "id": "694681b3",
   "metadata": {},
   "outputs": [
    {
     "name": "stdout",
     "output_type": "stream",
     "text": [
      "<class 'pandas.core.frame.DataFrame'>\n",
      "RangeIndex: 303 entries, 0 to 302\n",
      "Data columns (total 14 columns):\n",
      " #   Column    Non-Null Count  Dtype  \n",
      "---  ------    --------------  -----  \n",
      " 0   age       303 non-null    int64  \n",
      " 1   sex       303 non-null    int64  \n",
      " 2   cp        303 non-null    int64  \n",
      " 3   trtbps    303 non-null    int64  \n",
      " 4   chol      303 non-null    int64  \n",
      " 5   fbs       303 non-null    int64  \n",
      " 6   restecg   303 non-null    int64  \n",
      " 7   thalachh  303 non-null    int64  \n",
      " 8   exng      303 non-null    int64  \n",
      " 9   oldpeak   303 non-null    float64\n",
      " 10  slp       303 non-null    int64  \n",
      " 11  caa       303 non-null    int64  \n",
      " 12  thall     303 non-null    int64  \n",
      " 13  output    303 non-null    int64  \n",
      "dtypes: float64(1), int64(13)\n",
      "memory usage: 33.3 KB\n"
     ]
    }
   ],
   "source": [
    "data.info()"
   ]
  },
  {
   "cell_type": "code",
   "execution_count": 29,
   "id": "476d4e02",
   "metadata": {},
   "outputs": [
    {
     "data": {
      "text/plain": [
       "<AxesSubplot:>"
      ]
     },
     "execution_count": 29,
     "metadata": {},
     "output_type": "execute_result"
    },
    {
     "data": {
      "image/png": "[encoded data removed]",
      "text/plain": [
       "<Figure size 432x288 with 2 Axes>"
      ]
     },
     "metadata": {
      "needs_background": "light"
     },
     "output_type": "display_data"
    }
   ],
   "source": [
    "sns.heatmap(data.isnull(), cmap=\"viridis\")"
   ]
  },
  {
   "cell_type": "markdown",
   "id": "27831653",
   "metadata": {},
   "source": [
    "## Deep Learning Model"
   ]
  },
  {
   "cell_type": "code",
   "execution_count": 30,
   "id": "c53c2df0",
   "metadata": {},
   "outputs": [],
   "source": [
    "# Splitting Data\n",
    "from sklearn.model_selection import train_test_split\n",
    "X = data.drop(\"output\", axis=1)\n",
    "y = data[\"output\"]\n",
    "X_train, X_test, y_train, y_test = train_test_split(X, y, test_size=0.2, random_state=42)"
   ]
  },
  {
   "cell_type": "code",
   "execution_count": 31,
   "id": "32be4a0e",
   "metadata": {},
   "outputs": [],
   "source": [
    "# Scaling Data\n",
    "from sklearn.preprocessing import MinMaxScaler\n",
    "scaler = MinMaxScaler()\n",
    "X_train = scaler.fit_transform(X_train)\n",
    "X_test = scaler.transform(X_test)"
   ]
  },
  {
   "cell_type": "code",
   "execution_count": 32,
   "id": "5a09ea34",
   "metadata": {},
   "outputs": [
    {
     "data": {
      "text/plain": [
       "(242, 13)"
      ]
     },
     "execution_count": 32,
     "metadata": {},
     "output_type": "execute_result"
    }
   ],
   "source": [
    "X_train.shape"
   ]
  },
  {
   "cell_type": "code",
   "execution_count": 33,
   "id": "04863609",
   "metadata": {},
   "outputs": [],
   "source": [
    "from tensorflow.keras.callbacks import EarlyStopping\n",
    "early_stop = EarlyStopping(monitor=\"val_loss\", mode=\"min\", verbose=1, patience=25)\n",
    "from tensorflow.keras.layers import Dropout\n",
    "from tensorflow.keras.models import Sequential\n",
    "from tensorflow.keras.layers import Dense\n",
    "\n",
    "model = Sequential()\n",
    "\n",
    "model.add(Dense(100, activation=\"relu\"))\n",
    "model.add(Dropout(0.5))\n",
    "\n",
    "model.add(Dense(50, activation=\"relu\"))\n",
    "model.add(Dropout(0.5))\n",
    "\n",
    "# Binary Classification\n",
    "model.add(Dense(1, activation=\"sigmoid\"))\n",
    "\n",
    "model.compile(optimizer=\"adam\", loss=\"binary_crossentropy\")"
   ]
  },
  {
   "cell_type": "code",
   "execution_count": 34,
   "id": "190ebe20",
   "metadata": {},
   "outputs": [
    {
     "name": "stdout",
     "output_type": "stream",
     "text": [
      "Epoch 1/600\n",
      "8/8 [==============================] - 1s 21ms/step - loss: 0.6932 - val_loss: 0.6652\n",
      "Epoch 2/600\n",
      "8/8 [==============================] - 0s 4ms/step - loss: 0.6789 - val_loss: 0.6422\n",
      "Epoch 3/600\n",
      "8/8 [==============================] - 0s 4ms/step - loss: 0.6416 - val_loss: 0.6208\n",
      "Epoch 4/600\n",
      "8/8 [==============================] - 0s 5ms/step - loss: 0.6249 - val_loss: 0.5976\n",
      "Epoch 5/600\n",
      "8/8 [==============================] - 0s 4ms/step - loss: 0.5915 - val_loss: 0.5751\n",
      "Epoch 6/600\n",
      "8/8 [==============================] - 0s 4ms/step - loss: 0.5793 - val_loss: 0.5492\n",
      "Epoch 7/600\n",
      "8/8 [==============================] - 0s 5ms/step - loss: 0.5904 - val_loss: 0.5242\n",
      "Epoch 8/600\n",
      "8/8 [==============================] - 0s 4ms/step - loss: 0.5498 - val_loss: 0.5027\n",
      "Epoch 9/600\n",
      "8/8 [==============================] - 0s 4ms/step - loss: 0.5432 - val_loss: 0.4800\n",
      "Epoch 10/600\n",
      "8/8 [==============================] - 0s 5ms/step - loss: 0.5115 - val_loss: 0.4585\n",
      "Epoch 11/600\n",
      "8/8 [==============================] - 0s 5ms/step - loss: 0.5249 - val_loss: 0.4484\n",
      "Epoch 12/600\n",
      "8/8 [==============================] - 0s 5ms/step - loss: 0.4951 - val_loss: 0.4377\n",
      "Epoch 13/600\n",
      "8/8 [==============================] - 0s 5ms/step - loss: 0.4780 - val_loss: 0.4264\n",
      "Epoch 14/600\n",
      "8/8 [==============================] - 0s 5ms/step - loss: 0.4443 - val_loss: 0.4151\n",
      "Epoch 15/600\n",
      "8/8 [==============================] - 0s 5ms/step - loss: 0.4778 - val_loss: 0.4061\n",
      "Epoch 16/600\n",
      "8/8 [==============================] - 0s 4ms/step - loss: 0.4357 - val_loss: 0.4006\n",
      "Epoch 17/600\n",
      "8/8 [==============================] - 0s 4ms/step - loss: 0.4613 - val_loss: 0.3932\n",
      "Epoch 18/600\n",
      "8/8 [==============================] - 0s 5ms/step - loss: 0.4474 - val_loss: 0.3864\n",
      "Epoch 19/600\n",
      "8/8 [==============================] - 0s 5ms/step - loss: 0.4119 - val_loss: 0.3841\n",
      "Epoch 20/600\n",
      "8/8 [==============================] - 0s 4ms/step - loss: 0.4264 - val_loss: 0.3800\n",
      "Epoch 21/600\n",
      "8/8 [==============================] - 0s 5ms/step - loss: 0.4418 - val_loss: 0.3879\n",
      "Epoch 22/600\n",
      "8/8 [==============================] - 0s 5ms/step - loss: 0.4545 - val_loss: 0.3832\n",
      "Epoch 23/600\n",
      "8/8 [==============================] - 0s 5ms/step - loss: 0.4666 - val_loss: 0.3809\n",
      "Epoch 24/600\n",
      "8/8 [==============================] - 0s 5ms/step - loss: 0.4178 - val_loss: 0.3746\n",
      "Epoch 25/600\n",
      "8/8 [==============================] - 0s 5ms/step - loss: 0.3877 - val_loss: 0.3721\n",
      "Epoch 26/600\n",
      "8/8 [==============================] - 0s 5ms/step - loss: 0.3869 - val_loss: 0.3648\n",
      "Epoch 27/600\n",
      "8/8 [==============================] - 0s 5ms/step - loss: 0.3948 - val_loss: 0.3684\n",
      "Epoch 28/600\n",
      "8/8 [==============================] - 0s 5ms/step - loss: 0.3882 - val_loss: 0.3796\n",
      "Epoch 29/600\n",
      "8/8 [==============================] - 0s 5ms/step - loss: 0.4187 - val_loss: 0.3808\n",
      "Epoch 30/600\n",
      "8/8 [==============================] - 0s 5ms/step - loss: 0.3994 - val_loss: 0.3715\n",
      "Epoch 31/600\n",
      "8/8 [==============================] - 0s 5ms/step - loss: 0.3904 - val_loss: 0.3684\n",
      "Epoch 32/600\n",
      "8/8 [==============================] - 0s 5ms/step - loss: 0.4015 - val_loss: 0.3667\n",
      "Epoch 33/600\n",
      "8/8 [==============================] - 0s 5ms/step - loss: 0.3752 - val_loss: 0.3701\n",
      "Epoch 34/600\n",
      "8/8 [==============================] - 0s 5ms/step - loss: 0.3765 - val_loss: 0.3702\n",
      "Epoch 35/600\n",
      "8/8 [==============================] - 0s 4ms/step - loss: 0.3945 - val_loss: 0.3793\n",
      "Epoch 36/600\n",
      "8/8 [==============================] - 0s 5ms/step - loss: 0.3920 - val_loss: 0.3822\n",
      "Epoch 37/600\n",
      "8/8 [==============================] - 0s 4ms/step - loss: 0.3640 - val_loss: 0.3653\n",
      "Epoch 38/600\n",
      "8/8 [==============================] - 0s 5ms/step - loss: 0.3727 - val_loss: 0.3608\n",
      "Epoch 39/600\n",
      "8/8 [==============================] - 0s 5ms/step - loss: 0.3670 - val_loss: 0.3646\n",
      "Epoch 40/600\n",
      "8/8 [==============================] - 0s 5ms/step - loss: 0.3750 - val_loss: 0.3638\n",
      "Epoch 41/600\n",
      "8/8 [==============================] - 0s 5ms/step - loss: 0.3702 - val_loss: 0.3607\n",
      "Epoch 42/600\n",
      "8/8 [==============================] - 0s 5ms/step - loss: 0.3319 - val_loss: 0.3627\n",
      "Epoch 43/600\n",
      "8/8 [==============================] - 0s 4ms/step - loss: 0.3622 - val_loss: 0.3794\n",
      "Epoch 44/600\n",
      "8/8 [==============================] - 0s 4ms/step - loss: 0.3419 - val_loss: 0.3723\n",
      "Epoch 45/600\n",
      "8/8 [==============================] - 0s 5ms/step - loss: 0.3878 - val_loss: 0.3574\n",
      "Epoch 46/600\n",
      "8/8 [==============================] - 0s 4ms/step - loss: 0.3670 - val_loss: 0.3589\n",
      "Epoch 47/600\n",
      "8/8 [==============================] - 0s 5ms/step - loss: 0.3523 - val_loss: 0.3660\n",
      "Epoch 48/600\n",
      "8/8 [==============================] - 0s 5ms/step - loss: 0.3539 - val_loss: 0.3641\n",
      "Epoch 49/600\n",
      "8/8 [==============================] - 0s 5ms/step - loss: 0.3820 - val_loss: 0.3514\n",
      "Epoch 50/600\n",
      "8/8 [==============================] - 0s 4ms/step - loss: 0.3219 - val_loss: 0.3599\n",
      "Epoch 51/600\n",
      "8/8 [==============================] - 0s 5ms/step - loss: 0.3356 - val_loss: 0.3658\n",
      "Epoch 52/600\n",
      "8/8 [==============================] - 0s 4ms/step - loss: 0.3505 - val_loss: 0.3774\n",
      "Epoch 53/600\n",
      "8/8 [==============================] - 0s 4ms/step - loss: 0.3354 - val_loss: 0.3749\n",
      "Epoch 54/600\n",
      "8/8 [==============================] - 0s 5ms/step - loss: 0.3396 - val_loss: 0.3645\n",
      "Epoch 55/600\n",
      "8/8 [==============================] - 0s 5ms/step - loss: 0.3528 - val_loss: 0.3680\n",
      "Epoch 56/600\n",
      "8/8 [==============================] - 0s 5ms/step - loss: 0.3256 - val_loss: 0.3674\n",
      "Epoch 57/600\n",
      "8/8 [==============================] - 0s 5ms/step - loss: 0.3303 - val_loss: 0.3709\n",
      "Epoch 58/600\n",
      "8/8 [==============================] - 0s 5ms/step - loss: 0.3159 - val_loss: 0.3655\n",
      "Epoch 59/600\n",
      "8/8 [==============================] - 0s 5ms/step - loss: 0.3478 - val_loss: 0.3683\n",
      "Epoch 60/600\n",
      "8/8 [==============================] - 0s 5ms/step - loss: 0.3235 - val_loss: 0.3758\n",
      "Epoch 61/600\n",
      "8/8 [==============================] - 0s 5ms/step - loss: 0.3429 - val_loss: 0.3741\n",
      "Epoch 62/600\n",
      "8/8 [==============================] - 0s 5ms/step - loss: 0.3377 - val_loss: 0.3619\n",
      "Epoch 63/600\n",
      "8/8 [==============================] - 0s 4ms/step - loss: 0.3662 - val_loss: 0.3652\n",
      "Epoch 64/600\n",
      "8/8 [==============================] - 0s 4ms/step - loss: 0.3356 - val_loss: 0.3746\n",
      "Epoch 65/600\n",
      "8/8 [==============================] - 0s 4ms/step - loss: 0.3762 - val_loss: 0.3665\n",
      "Epoch 66/600\n",
      "8/8 [==============================] - 0s 4ms/step - loss: 0.3191 - val_loss: 0.3558\n",
      "Epoch 67/600\n",
      "8/8 [==============================] - 0s 4ms/step - loss: 0.3142 - val_loss: 0.3524\n",
      "Epoch 68/600\n",
      "8/8 [==============================] - 0s 4ms/step - loss: 0.3289 - val_loss: 0.3587\n",
      "Epoch 69/600\n",
      "8/8 [==============================] - 0s 4ms/step - loss: 0.3335 - val_loss: 0.3577\n",
      "Epoch 70/600\n",
      "8/8 [==============================] - 0s 5ms/step - loss: 0.3003 - val_loss: 0.3569\n",
      "Epoch 71/600\n",
      "8/8 [==============================] - 0s 4ms/step - loss: 0.3278 - val_loss: 0.3680\n",
      "Epoch 72/600\n",
      "8/8 [==============================] - 0s 4ms/step - loss: 0.3352 - val_loss: 0.3662\n",
      "Epoch 73/600\n",
      "8/8 [==============================] - 0s 4ms/step - loss: 0.3289 - val_loss: 0.3666\n",
      "Epoch 74/600\n",
      "8/8 [==============================] - 0s 4ms/step - loss: 0.3206 - val_loss: 0.3676\n",
      "Epoch 74: early stopping\n"
     ]
    },
    {
     "data": {
      "text/plain": [
       "<keras.callbacks.History at 0x1ae4638c3d0>"
      ]
     },
     "execution_count": 34,
     "metadata": {},
     "output_type": "execute_result"
    }
   ],
   "source": [
    "model.fit(x=X_train, y=y_train,\n",
    "          validation_data=(X_test, y_test),\n",
    "          epochs=600,\n",
    "          callbacks=[early_stop])"
   ]
  },
  {
   "cell_type": "code",
   "execution_count": 35,
   "id": "d3b1ecb2",
   "metadata": {},
   "outputs": [
    {
     "data": {
      "text/plain": [
       "<AxesSubplot:>"
      ]
     },
     "execution_count": 35,
     "metadata": {},
     "output_type": "execute_result"
    },
    {
     "data": {
      "image/png": "[encoded data removed]",
      "text/plain": [
       "<Figure size 432x288 with 1 Axes>"
      ]
     },
     "metadata": {
      "needs_background": "light"
     },
     "output_type": "display_data"
    }
   ],
   "source": [
    "losses = pd.DataFrame(model.history.history)\n",
    "losses.plot()"
   ]
  },
  {
   "cell_type": "code",
   "execution_count": 36,
   "id": "3d0da568",
   "metadata": {},
   "outputs": [
    {
     "name": "stdout",
     "output_type": "stream",
     "text": [
      "2/2 [==============================] - 0s 996us/step\n"
     ]
    }
   ],
   "source": [
    "predictions = (model.predict(X_test) > 0.5)*1"
   ]
  },
  {
   "cell_type": "code",
   "execution_count": 37,
   "id": "0807bcb6",
   "metadata": {},
   "outputs": [
    {
     "name": "stdout",
     "output_type": "stream",
     "text": [
      "[[26  3]\n",
      " [ 4 28]]\n",
      "\n",
      "              precision    recall  f1-score   support\n",
      "\n",
      "           0       0.87      0.90      0.88        29\n",
      "           1       0.90      0.88      0.89        32\n",
      "\n",
      "    accuracy                           0.89        61\n",
      "   macro avg       0.88      0.89      0.89        61\n",
      "weighted avg       0.89      0.89      0.89        61\n",
      "\n"
     ]
    }
   ],
   "source": [
    "from sklearn.metrics import classification_report, confusion_matrix\n",
    "print(confusion_matrix(y_test, predictions))\n",
    "print()\n",
    "print(classification_report(y_test, predictions))"
   ]
  },
  {
   "cell_type": "markdown",
   "id": "6ebbc501",
   "metadata": {},
   "source": [
    "## Logistic Regression"
   ]
  },
  {
   "cell_type": "code",
   "execution_count": 38,
   "id": "80fdcae5",
   "metadata": {},
   "outputs": [],
   "source": [
    "X = data.drop(\"output\", axis=1)\n",
    "y = data[\"output\"]\n",
    "X_train, X_test, y_train, y_test = train_test_split(X, y, test_size=0.2, random_state=42)"
   ]
  },
  {
   "cell_type": "code",
   "execution_count": 39,
   "id": "e6193ca2",
   "metadata": {},
   "outputs": [],
   "source": [
    "from sklearn.linear_model import LogisticRegression\n",
    "logmodel = LogisticRegression(max_iter=1000)"
   ]
  },
  {
   "cell_type": "code",
   "execution_count": 40,
   "id": "674c6d62",
   "metadata": {},
   "outputs": [
    {
     "data": {
      "text/plain": [
       "LogisticRegression(max_iter=1000)"
      ]
     },
     "execution_count": 40,
     "metadata": {},
     "output_type": "execute_result"
    }
   ],
   "source": [
    "logmodel.fit(X_train, y_train)"
   ]
  },
  {
   "cell_type": "code",
   "execution_count": 41,
   "id": "10fd2ba6",
   "metadata": {},
   "outputs": [],
   "source": [
    "predictions2 = logmodel.predict(X_test)"
   ]
  },
  {
   "cell_type": "code",
   "execution_count": 42,
   "id": "907be5ab",
   "metadata": {},
   "outputs": [
    {
     "name": "stdout",
     "output_type": "stream",
     "text": [
      "[[25  4]\n",
      " [ 4 28]]\n",
      "\n",
      "              precision    recall  f1-score   support\n",
      "\n",
      "           0       0.86      0.86      0.86        29\n",
      "           1       0.88      0.88      0.88        32\n",
      "\n",
      "    accuracy                           0.87        61\n",
      "   macro avg       0.87      0.87      0.87        61\n",
      "weighted avg       0.87      0.87      0.87        61\n",
      "\n"
     ]
    }
   ],
   "source": [
    "print(confusion_matrix(y_test, predictions2))\n",
    "print()\n",
    "print(classification_report(y_test, predictions2))"
   ]
  },
  {
   "cell_type": "code",
   "execution_count": null,
   "id": "88e24ba4",
   "metadata": {},
   "outputs": [],
   "source": []
  }
 ],
 "metadata": {
  "kernelspec": {
   "display_name": "Python 3 (ipykernel)",
   "language": "python",
   "name": "python3"
  },
  "language_info": {
   "codemirror_mode": {
    "name": "ipython",
    "version": 3
   },
   "file_extension": ".py",
   "mimetype": "text/x-python",
   "name": "python",
   "nbconvert_exporter": "python",
   "pygments_lexer": "ipython3",
   "version": "3.9.12"
  }
 },
 "nbformat": 4,
 "nbformat_minor": 5
}
